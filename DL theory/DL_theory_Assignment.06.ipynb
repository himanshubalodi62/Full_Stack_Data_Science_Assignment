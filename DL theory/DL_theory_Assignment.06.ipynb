{
 "cells": [
  {
   "cell_type": "markdown",
   "id": "0b4f07c8",
   "metadata": {},
   "source": [
    "#### 1. What are the advantages of a CNN over a fully connected DNN for image classification?\n",
    "\n",
    "#### Ans:\n",
    "\n",
    "CNNs do not require human supervision for the task of identifying important features. They are very accurate at image recognition and classification. Weight sharing is another major advantage of CNNs. Convolutional neural networks also minimize computation in comparison with a regular neural network.\n",
    "\n",
    "Here are some key points:\n",
    "\n",
    "+ CNN's layers are only partially connnected and reuses its weights.\n",
    "\n",
    "+ learned a kernel which can detect a particular features.\n",
    "\n",
    "+ A CNN's architecture embeds this prior knowledge."
   ]
  },
  {
   "cell_type": "markdown",
   "id": "ea3b4dc5",
   "metadata": {},
   "source": [
    "#### 2. Consider a CNN composed of three convolutional layers, each with 3 × 3 kernels, a stride of 2, and \"same\" padding. The lowest layer outputs 100 feature maps, the middle one outputs 200, and the top one outputs 400. The input images are RGB images of 200 × 300 pixels. What is the total number of parameters in the CNN? If we are using 32-bit floats, at least how much RAM will this network require when making a prediction for a single instance? What about when training on a mini-batch of 50 images?\n",
    "\n",
    "### Ans:\n",
    "\n",
    "parameters\n",
    "\n",
    "+ first convolutional layer kernel-size and RGB channels, plus bias: 3 * 3 * 3 + 1 = 28 output feature maps is 100: 28 * 100 = 2800\n",
    "+ second convolutional layer kernel-size and last feature maps, plus bias: 3 * 3 * 100 + 1 = 901 output feature maps is 200: 901 * 200 = 180200\n",
    "+ third convolutional layers kernel-size and last feautre maps, plus bias: 3 * 3 * 200 + 1 =1801 output feautre maps is 400: 1801 * 400 = 720400\n",
    "Total parameters is 2800 + 180200 + 720400 = 903400\n",
    "\n",
    "memories since 32-bit is 4 bytes\n",
    "\n",
    "+ first convolutional layer one feature map size: 100 * 150 = 15000 total output: 15000 * 100 = 1,500,000\n",
    "+ second convolutional layer one feature map size: 50 * 75 = 3,750 total output: 3750 * 200 = 750,000\n",
    "+ third convolutional layer one feature map size: 25 * 38 = 950 total ouput: 950 * 400 = 380, 000\n",
    "(1,500,000 + 750,000 + 380,000) * 4 / 1024 /1024 = 10.032 (MB) 903400 * 4 / 1024 / 1024 = 3.44 (MB) 10.032+ 3.44=13.47(MB)"
   ]
  },
  {
   "cell_type": "markdown",
   "id": "7568f9bf",
   "metadata": {},
   "source": [
    "#### 3. If your GPU runs out of memory while training a CNN, what are five things you could try to solve the problem?\n",
    "\n",
    "#### Ans:\n",
    "\n",
    "+ reduce mini-batch size\n",
    "\n",
    "+ reduce dimensionality using a larger stride in one or more layers\n",
    "\n",
    "+ remove one or more layers\n",
    "\n",
    "+ using 16-bits instead of 32-bit floats\n",
    "\n",
    "+ distributed the cnn across multiple devices"
   ]
  },
  {
   "cell_type": "markdown",
   "id": "d3847179",
   "metadata": {},
   "source": [
    "#### 4. Why would you want to add a max pooling layer rather than a convolutional layer with the same stride?\n",
    "\n",
    "#### Ans:\n",
    "\n",
    "We add max pooling layer to make a model training faster. In convolution we extract the fetures in each layer but image pixel reduction becomes slow."
   ]
  },
  {
   "cell_type": "markdown",
   "id": "ef271142",
   "metadata": {},
   "source": [
    "#### 5. When would you want to add a local response normalization layer?\n",
    "\n",
    "#### Ans:\n",
    "\n",
    "This is useful when we are dealing with ReLU neurons. ReLU neurons have unbounded activations, and we need local response normalization (LRN) to normalize them. To do this, we need to identify high frequency features. By applying LRN, the neurons becomes more sensitive than their neighbors."
   ]
  },
  {
   "cell_type": "markdown",
   "id": "2bee5a5f",
   "metadata": {},
   "source": [
    "#### 6. Can you name the main innovations in AlexNet, compared to LeNet-5? What about the main innovations in GoogLeNet, ResNet, SENet, and Xception?\n",
    "\n",
    "#### Ans:\n",
    "\n",
    "+ The main innovation introduced by AlexNet compared to the LeNet-5 was its sheer size. AlexNet main elements are the same: a sequence of convolutional and pooling layers followed by a couple of fully-connected layers.\n",
    "\n"
   ]
  },
  {
   "cell_type": "markdown",
   "id": "885c0408",
   "metadata": {},
   "source": [
    "#### 7. What is a fully convolutional network? How can you convert a dense layer into a convolutional layer?\n",
    "\n",
    "### Ans:\n",
    "\n",
    "+ A fully convolution network (FCN) is a neural network that only performs convolution (and subsampling or upsampling) operations. Equivalently, an FCN is a CNN without fully connected layers.\n",
    "\n",
    "+ A fully convolution network can be built by simply replacing the FC layers with there equivalent Conv layers. In the example of VGG16 we can do so by first removing the last four layers. One way to do so is to pop layers from the model. In the model stack, each popping will remove the last layer."
   ]
  },
  {
   "cell_type": "markdown",
   "id": "19b17be7",
   "metadata": {},
   "source": [
    "#### 8. What is the main technical difficulty of semantic segmentation?\n",
    "\n",
    "#### Ans:\n",
    "\n",
    "However, semantic segmentation also has a major problem specific difficulty. This difficulty is caused by an ambiguity of boundaries in image space, especially for thin objects such as poles, similar looking objects such as a road and a sidewalk and far away objects."
   ]
  },
  {
   "cell_type": "markdown",
   "id": "ae61799c",
   "metadata": {},
   "source": [
    "#### 9. Build your own CNN from scratch and try to achieve the highest possible accuracy on MNIST.\n",
    "\n",
    "Ans:"
   ]
  },
  {
   "cell_type": "code",
   "execution_count": null,
   "id": "a8189ef2",
   "metadata": {},
   "outputs": [],
   "source": []
  },
  {
   "cell_type": "markdown",
   "id": "c8ed71bf",
   "metadata": {},
   "source": [
    "#### 10. Use transfer learning for large image classification, going through these steps:\n",
    "\n",
    "a. Create a training set containing at least 100 images per class. For example, you could classify your own pictures based on the location (beach, mountain, city, etc.), or alternatively you can use an existing dataset (e.g., from TensorFlow Datasets).\n",
    "\n",
    "b. Split it into a training set, a validation set, and a test set.\n",
    "\n",
    "c. Build the input pipeline, including the appropriate preprocessing operations, and optionally add data augmentation.\n",
    "\n",
    "d. Fine-tune a pretrained model on this dataset."
   ]
  },
  {
   "cell_type": "markdown",
   "id": "6e198a86",
   "metadata": {},
   "source": [
    "### Ans:"
   ]
  },
  {
   "cell_type": "code",
   "execution_count": null,
   "id": "501e6ea3",
   "metadata": {},
   "outputs": [],
   "source": []
  }
 ],
 "metadata": {
  "kernelspec": {
   "display_name": "Python 3 (ipykernel)",
   "language": "python",
   "name": "python3"
  },
  "language_info": {
   "codemirror_mode": {
    "name": "ipython",
    "version": 3
   },
   "file_extension": ".py",
   "mimetype": "text/x-python",
   "name": "python",
   "nbconvert_exporter": "python",
   "pygments_lexer": "ipython3",
   "version": "3.10.9"
  }
 },
 "nbformat": 4,
 "nbformat_minor": 5
}
